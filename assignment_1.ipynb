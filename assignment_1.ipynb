{
  "nbformat": 4,
  "nbformat_minor": 0,
  "metadata": {
    "colab": {
      "provenance": [],
      "authorship_tag": "ABX9TyPb8pmpwhi3YWEa4XfbnrzU",
      "include_colab_link": true
    },
    "kernelspec": {
      "name": "python3",
      "display_name": "Python 3"
    },
    "language_info": {
      "name": "python"
    }
  },
  "cells": [
    {
      "cell_type": "markdown",
      "metadata": {
        "id": "view-in-github",
        "colab_type": "text"
      },
      "source": [
        "<a href=\"https://colab.research.google.com/github/Taimalee/capstone/blob/main/assignment_1.ipynb\" target=\"_parent\"><img src=\"https://colab.research.google.com/assets/colab-badge.svg\" alt=\"Open In Colab\"/></a>"
      ]
    },
    {
      "cell_type": "code",
      "source": [
        "! mkdir utils"
      ],
      "metadata": {
        "id": "YX5OBVnURhfa"
      },
      "execution_count": null,
      "outputs": []
    },
    {
      "cell_type": "code",
      "source": [
        "! touch utils/lib.py"
      ],
      "metadata": {
        "id": "qZzVDL5XRtja"
      },
      "execution_count": null,
      "outputs": []
    },
    {
      "cell_type": "code",
      "source": [
        "! echo 'var = 30' > lip.py\n",
        "\n"
      ],
      "metadata": {
        "id": "ePHhlv7ZR5eI"
      },
      "execution_count": null,
      "outputs": []
    },
    {
      "cell_type": "code",
      "source": [
        " #How can you explore all available methods and attributes that you can call on a list, string, or tuple object? Show examples for all three.\n",
        "\n"
      ],
      "metadata": {
        "colab": {
          "base_uri": "https://localhost:8080/"
        },
        "id": "sVCmZMCjrsDq",
        "outputId": "c87bbcfa-101b-40cc-ccb6-403edf743507"
      },
      "execution_count": null,
      "outputs": [
        {
          "output_type": "stream",
          "name": "stdout",
          "text": [
            "['__add__', '__class__', '__class_getitem__', '__contains__', '__delattr__', '__delitem__', '__dir__', '__doc__', '__eq__', '__format__', '__ge__', '__getattribute__', '__getitem__', '__gt__', '__hash__', '__iadd__', '__imul__', '__init__', '__init_subclass__', '__iter__', '__le__', '__len__', '__lt__', '__mul__', '__ne__', '__new__', '__reduce__', '__reduce_ex__', '__repr__', '__reversed__', '__rmul__', '__setattr__', '__setitem__', '__sizeof__', '__str__', '__subclasshook__', 'append', 'clear', 'copy', 'count', 'extend', 'index', 'insert', 'pop', 'remove', 'reverse', 'sort']\n"
          ]
        }
      ]
    },
    {
      "cell_type": "code",
      "source": [
        "# Create a string\n",
        "my_string = \"Hello, World!\"\n",
        "\n",
        "# Use dir() to explore methods and attributes\n",
        "string_methods = dir(my_string)\n",
        "print(\"\\nString Methods and Attributes:\")\n",
        "print(string_methods)\n"
      ],
      "metadata": {
        "colab": {
          "base_uri": "https://localhost:8080/"
        },
        "id": "zwnvl823tKB8",
        "outputId": "2412879e-dd22-462d-ae71-bed9a36edc7c"
      },
      "execution_count": null,
      "outputs": [
        {
          "output_type": "stream",
          "name": "stdout",
          "text": [
            "\n",
            "String Methods and Attributes:\n",
            "['__add__', '__class__', '__contains__', '__delattr__', '__dir__', '__doc__', '__eq__', '__format__', '__ge__', '__getattribute__', '__getitem__', '__getnewargs__', '__gt__', '__hash__', '__init__', '__init_subclass__', '__iter__', '__le__', '__len__', '__lt__', '__mod__', '__mul__', '__ne__', '__new__', '__reduce__', '__reduce_ex__', '__repr__', '__rmod__', '__rmul__', '__setattr__', '__sizeof__', '__str__', '__subclasshook__', 'capitalize', 'casefold', 'center', 'count', 'encode', 'endswith', 'expandtabs', 'find', 'format', 'format_map', 'index', 'isalnum', 'isalpha', 'isascii', 'isdecimal', 'isdigit', 'isidentifier', 'islower', 'isnumeric', 'isprintable', 'isspace', 'istitle', 'isupper', 'join', 'ljust', 'lower', 'lstrip', 'maketrans', 'partition', 'removeprefix', 'removesuffix', 'replace', 'rfind', 'rindex', 'rjust', 'rpartition', 'rsplit', 'rstrip', 'split', 'splitlines', 'startswith', 'strip', 'swapcase', 'title', 'translate', 'upper', 'zfill']\n"
          ]
        }
      ]
    },
    {
      "cell_type": "code",
      "source": [
        "# Create a tuple\n",
        "my_tuple = (1, 2, 3)\n",
        "\n",
        "# Use dir() to explore methods and attributes\n",
        "tuple_methods = dir(my_tuple)\n",
        "print(\"\\nTuple Methods and Attributes:\")\n",
        "print(tuple_methods)\n"
      ],
      "metadata": {
        "colab": {
          "base_uri": "https://localhost:8080/"
        },
        "id": "hpa_3HgQtREn",
        "outputId": "31171335-8564-46a1-c163-bd6dacdc28df"
      },
      "execution_count": null,
      "outputs": [
        {
          "output_type": "stream",
          "name": "stdout",
          "text": [
            "\n",
            "Tuple Methods and Attributes:\n",
            "['__add__', '__class__', '__class_getitem__', '__contains__', '__delattr__', '__dir__', '__doc__', '__eq__', '__format__', '__ge__', '__getattribute__', '__getitem__', '__getnewargs__', '__gt__', '__hash__', '__init__', '__init_subclass__', '__iter__', '__le__', '__len__', '__lt__', '__mul__', '__ne__', '__new__', '__reduce__', '__reduce_ex__', '__repr__', '__rmul__', '__setattr__', '__sizeof__', '__str__', '__subclasshook__', 'count', 'index']\n"
          ]
        }
      ]
    },
    {
      "cell_type": "code",
      "source": [
        "#How can you view the doc-string (documentation) of a specific method (e.g., a method from a set object)? Choose one method from the set object and demonstrate how to access its documentation.\n",
        "  # Create a set\n",
        "my_set = {1, 2, 3}\n",
        "\n",
        "# Access documentation for the add() method\n",
        "help(my_set.add)\n"
      ],
      "metadata": {
        "colab": {
          "base_uri": "https://localhost:8080/"
        },
        "id": "WqGNN15BtwKl",
        "outputId": "6c56cc48-67e8-463e-ce2d-c89df339e703"
      },
      "execution_count": null,
      "outputs": [
        {
          "output_type": "stream",
          "name": "stdout",
          "text": [
            "Help on built-in function add:\n",
            "\n",
            "add(...) method of builtins.set instance\n",
            "    Add an element to a set.\n",
            "    \n",
            "    This has no effect if the element is already present.\n",
            "\n"
          ]
        }
      ]
    },
    {
      "cell_type": "code",
      "source": [
        "#Create a List of Favorite Vegetables\n",
        "\n",
        "# List of favorite vegetables ordered from most to least favorite\n",
        "vegetables_list = [\"Spinach\", \"Broccoli\", \"Carrots\", \"Bell Peppers\", \"Kale\"]\n"
      ],
      "metadata": {
        "id": "RZkTMSjAvLTG"
      },
      "execution_count": null,
      "outputs": []
    },
    {
      "cell_type": "code",
      "source": [
        "#Print Index and Item Using enumerate()\n",
        "# Using enumerate() to print index and item\n",
        "print(\"Using enumerate():\")\n",
        "for index, vegetable in enumerate(vegetables_list):\n",
        "    print(f\"Index: {index}, Vegetable: {vegetable}\")\n"
      ],
      "metadata": {
        "colab": {
          "base_uri": "https://localhost:8080/"
        },
        "id": "iB5gEg2AvfEo",
        "outputId": "d1322d12-7a97-45fa-b786-941766f5a1ef"
      },
      "execution_count": null,
      "outputs": [
        {
          "output_type": "stream",
          "name": "stdout",
          "text": [
            "Using enumerate():\n",
            "Index: 0, Vegetable: Spinach\n",
            "Index: 1, Vegetable: Broccoli\n",
            "Index: 2, Vegetable: Carrots\n",
            "Index: 3, Vegetable: Bell Peppers\n",
            "Index: 4, Vegetable: Kale\n"
          ]
        }
      ]
    },
    {
      "cell_type": "code",
      "source": [
        "#Print Index and Item Using range(len())\n",
        "# Using range(len()) to print index and item\n",
        "print(\"\\nUsing range(len()):\")\n",
        "for i in range(len(vegetables_list)):\n",
        "    print(f\"Index: {i}, Vegetable: {vegetables_list[i]}\")\n"
      ],
      "metadata": {
        "colab": {
          "base_uri": "https://localhost:8080/"
        },
        "id": "mA4TqI0vwAmU",
        "outputId": "2d18f86b-90ea-4104-efcb-b671017a53c4"
      },
      "execution_count": null,
      "outputs": [
        {
          "output_type": "stream",
          "name": "stdout",
          "text": [
            "\n",
            "Using range(len()):\n",
            "Index: 0, Vegetable: Spinach\n",
            "Index: 1, Vegetable: Broccoli\n",
            "Index: 2, Vegetable: Carrots\n",
            "Index: 3, Vegetable: Bell Peppers\n",
            "Index: 4, Vegetable: Kale\n"
          ]
        }
      ]
    },
    {
      "cell_type": "code",
      "source": [
        "#Data Structure That Maintains Order\n",
        "# Convert to tuple\n",
        "vegetables_tuple = tuple(vegetables_list)\n",
        "print(\"\\nTuple maintaining order:\", vegetables_tuple)\n"
      ],
      "metadata": {
        "colab": {
          "base_uri": "https://localhost:8080/"
        },
        "id": "R5jPr8amwfMs",
        "outputId": "1e3a3f0e-bcb0-454e-982b-a4d7adb9bbab"
      },
      "execution_count": null,
      "outputs": [
        {
          "output_type": "stream",
          "name": "stdout",
          "text": [
            "\n",
            "Tuple maintaining order: ('Spinach', 'Broccoli', 'Carrots', 'Bell Peppers', 'Kale')\n"
          ]
        }
      ]
    },
    {
      "cell_type": "code",
      "source": [
        "#Data Structure That Does Not Maintain Order\n",
        "# Convert to set\n",
        "vegetables_set = set(vegetables_list)\n",
        "print(\"Set not maintaining order:\", vegetables_set)\n"
      ],
      "metadata": {
        "colab": {
          "base_uri": "https://localhost:8080/"
        },
        "id": "ksGls3wSwrZQ",
        "outputId": "377f4dba-b938-40df-a440-6b546efebbf7"
      },
      "execution_count": null,
      "outputs": [
        {
          "output_type": "stream",
          "name": "stdout",
          "text": [
            "Set not maintaining order: {'Broccoli', 'Bell Peppers', 'Kale', 'Carrots', 'Spinach'}\n"
          ]
        }
      ]
    },
    {
      "cell_type": "code",
      "source": [
        " #Convert the List to a Tuple\n",
        " # List of favorite vegetables\n",
        "vegetables_list = [\"Spinach\", \"Broccoli\", \"Carrots\", \"Bell Peppers\", \"Kale\"]\n",
        "\n",
        "# Convert the list to a tuple\n",
        "vegetables_tuple = tuple(vegetables_list)\n",
        "print(\"Tuple:\", vegetables_tuple)\n"
      ],
      "metadata": {
        "colab": {
          "base_uri": "https://localhost:8080/"
        },
        "id": "KoYBTvjmxNoT",
        "outputId": "dc39fd12-b7ab-4ab5-d977-457698eca248"
      },
      "execution_count": null,
      "outputs": [
        {
          "output_type": "stream",
          "name": "stdout",
          "text": [
            "Tuple: ('Spinach', 'Broccoli', 'Carrots', 'Bell Peppers', 'Kale')\n"
          ]
        }
      ]
    },
    {
      "cell_type": "code",
      "source": [
        "#Show Limitations of Using a Tuple\n",
        "# Attempt to change an element in the tuple (will raise an error)\n",
        "try:\n",
        "    vegetables_tuple[1] = \"Cauliflower\"  # This will fail\n",
        "except TypeError as e:\n",
        "    print(\"Error:\", e)\n",
        "\n",
        "# Attempt to append an item to the tuple (will raise an error)\n",
        "try:\n",
        "    vegetables_tuple.append(\"Lettuce\")  # This will fail\n",
        "except AttributeError as e:\n",
        "    print(\"Error:\", e)\n"
      ],
      "metadata": {
        "colab": {
          "base_uri": "https://localhost:8080/"
        },
        "id": "wKG007bCxgxl",
        "outputId": "baeb9247-c281-44a4-b587-4f0f665d23f6"
      },
      "execution_count": null,
      "outputs": [
        {
          "output_type": "stream",
          "name": "stdout",
          "text": [
            "Error: 'tuple' object does not support item assignment\n",
            "Error: 'tuple' object has no attribute 'append'\n"
          ]
        }
      ]
    },
    {
      "cell_type": "code",
      "source": [
        "#Convert the List to a Set\n",
        "\n",
        "vegetables_set = set(vegetables_list)\n",
        "print(\"Set:\", vegetables_set)\n"
      ],
      "metadata": {
        "colab": {
          "base_uri": "https://localhost:8080/"
        },
        "id": "eUxCQ4MPx63J",
        "outputId": "c2be8502-b0a1-4f77-ca9e-ce48571d89ba"
      },
      "execution_count": null,
      "outputs": [
        {
          "output_type": "stream",
          "name": "stdout",
          "text": [
            "Set: {'Broccoli', 'Bell Peppers', 'Kale', 'Carrots', 'Spinach'}\n"
          ]
        }
      ]
    },
    {
      "cell_type": "code",
      "source": [
        " #Show Limitations of Using a Set\n",
        " # Attempt to access an element by index (will raise an error)\n",
        "try:\n",
        "    first_vegetable = vegetables_set[0]  # This will fail\n",
        "except TypeError as e:\n",
        "    print(\"Error:\", e)\n",
        "\n",
        "# Attempt to have duplicate items in a set (will not raise an error but shows limitation)\n",
        "duplicate_set = set([\"Spinach\", \"Broccoli\", \"Carrots\", \"Carrots\", \"Kale\"])\n",
        "print(\"Set with duplicates (will ignore duplicates):\", duplicate_set)\n"
      ],
      "metadata": {
        "colab": {
          "base_uri": "https://localhost:8080/"
        },
        "id": "rcIxq8Y1ypxq",
        "outputId": "3e0f455f-98da-4804-d4fa-a3106c825171"
      },
      "execution_count": null,
      "outputs": [
        {
          "output_type": "stream",
          "name": "stdout",
          "text": [
            "Error: 'set' object is not subscriptable\n",
            "Set with duplicates (will ignore duplicates): {'Carrots', 'Broccoli', 'Spinach', 'Kale'}\n"
          ]
        }
      ]
    },
    {
      "cell_type": "code",
      "source": [
        "# Demonstrate Adding More Values to Your Set\n",
        "# Check available methods for the set\n",
        "print(\"Methods available for set:\", dir(vegetables_set))\n",
        "\n",
        "# Add more values to the set\n",
        "vegetables_set.add(\"Lettuce\")\n",
        "vegetables_set.add(\"Tomato\")\n",
        "\n",
        "# Print the updated set\n",
        "print(\"Updated Set after adding more values:\", vegetables_set)\n"
      ],
      "metadata": {
        "colab": {
          "base_uri": "https://localhost:8080/"
        },
        "id": "GMtcjepdy7g0",
        "outputId": "2d9e438f-8839-4b65-fb18-62e835de7f1a"
      },
      "execution_count": null,
      "outputs": [
        {
          "output_type": "stream",
          "name": "stdout",
          "text": [
            "Methods available for set: ['__and__', '__class__', '__class_getitem__', '__contains__', '__delattr__', '__dir__', '__doc__', '__eq__', '__format__', '__ge__', '__getattribute__', '__gt__', '__hash__', '__iand__', '__init__', '__init_subclass__', '__ior__', '__isub__', '__iter__', '__ixor__', '__le__', '__len__', '__lt__', '__ne__', '__new__', '__or__', '__rand__', '__reduce__', '__reduce_ex__', '__repr__', '__ror__', '__rsub__', '__rxor__', '__setattr__', '__sizeof__', '__str__', '__sub__', '__subclasshook__', '__xor__', 'add', 'clear', 'copy', 'difference', 'difference_update', 'discard', 'intersection', 'intersection_update', 'isdisjoint', 'issubset', 'issuperset', 'pop', 'remove', 'symmetric_difference', 'symmetric_difference_update', 'union', 'update']\n",
            "Updated Set after adding more values: {'Broccoli', 'Bell Peppers', 'Kale', 'Carrots', 'Spinach', 'Tomato', 'Lettuce'}\n"
          ]
        }
      ]
    },
    {
      "cell_type": "code",
      "source": [
        "# Order the speed of using a membership operator in a set, list, and tuple. Explain why.\n",
        "\n",
        "#Set (fastest due to hash table implementation),\n",
        "#Tuple (intermediate due to immutability but still requires linear search),\n",
        "#List (slowest due to linear search with no optimization).\n",
        "\n",
        "\n",
        "\n",
        "\n",
        "\n"
      ],
      "metadata": {
        "id": "CWITB1qiz6xN"
      },
      "execution_count": null,
      "outputs": []
    },
    {
      "cell_type": "code",
      "source": [
        "# Can we find the hash of a mutable object? Explain its relevance to the membership operator.\n",
        "\n",
        "#No, you cannot find the hash of a mutable object (like a list or dictionary).\n",
        "#Mutable objects can change, making their hash value unreliable.\n",
        "#Hashing is essential for the membership operator in sets.\n",
        "#Sets rely on hash values for efficient lookups (O(1) average time complexity).\n",
        "#Only immutable (hashable) objects can be added to sets for consistent hashing."
      ],
      "metadata": {
        "id": "aKolNDbf0Z_4"
      },
      "execution_count": null,
      "outputs": []
    },
    {
      "cell_type": "code",
      "source": [
        "#Finding the Hash of an Immutable Object\n",
        "# Hashing an immutable object (tuple)\n",
        "my_tuple = (1, 2, 3)\n",
        "print(\"Hash of my_tuple:\", hash(my_tuple))\n",
        "\n",
        "# Hashing a string\n",
        "my_string = \"Hello\"\n",
        "print(\"Hash of my_string:\", hash(my_string))\n",
        "\n",
        "# Hashing an integer\n",
        "my_int = 42\n",
        "print(\"Hash of my_int:\", hash(my_int))\n"
      ],
      "metadata": {
        "colab": {
          "base_uri": "https://localhost:8080/"
        },
        "id": "MhmBgqyg1sB3",
        "outputId": "1200c763-f89c-4d2b-ba5b-f1e9df188bac"
      },
      "execution_count": null,
      "outputs": [
        {
          "output_type": "stream",
          "name": "stdout",
          "text": [
            "Hash of my_tuple: 529344067295497451\n",
            "Hash of my_string: 4128547318038700265\n",
            "Hash of my_int: 42\n"
          ]
        }
      ]
    },
    {
      "cell_type": "code",
      "source": [
        "# Explanation: How Hashing Improves the in Membership Operator\n",
        "\n",
        "# Hashing improves the in membership operator in sets and dictionaries by allowing constant time lookups.\n",
        "# When an element is added to a set or used as a key in a dictionary, its hash value is computed and stored.\n",
        "# During a membership check (element in set), Python computes the hash of the element and quickly checks whether that hash exists in the set, making the operation efficient.\n"
      ],
      "metadata": {
        "id": "m6Lm5kgo2ofD"
      },
      "execution_count": null,
      "outputs": []
    },
    {
      "cell_type": "code",
      "source": [
        "# Can a list contain a set?\n",
        "# No, a list cannot contain a set.\n",
        "\n",
        "# Reason: Sets are mutable objects, and mutable objects cannot be hashed. Lists allow storing any type of object, but since sets are not hashable, they cannot be added to a list, as they could change over time."
      ],
      "metadata": {
        "id": "YTFD4p643rQ2"
      },
      "execution_count": null,
      "outputs": []
    },
    {
      "cell_type": "code",
      "source": [
        "#Can a set contain a tuple?\n",
        "#Yes, a set can contain a tuple.\n",
        "\n",
        "#Reason: Tuples are immutable, meaning their contents cannot change once created. Since immutable objects are hashable, they can be added to a set. Thus, sets can store tuples."
      ],
      "metadata": {
        "id": "ZuKSmLpv4gw7"
      },
      "execution_count": null,
      "outputs": []
    },
    {
      "cell_type": "code",
      "source": [
        "#Can a set contain another set?\n",
        "#No, a set cannot contain another set.\n",
        "\n",
        "#Reason: Sets are mutable and, therefore, unhashable. Since a set relies on hash values for membership and uniqueness, and mutable objects like sets cannot be hashed, a set cannot contain another set."
      ],
      "metadata": {
        "id": "SoKV74nk5Il4"
      },
      "execution_count": null,
      "outputs": []
    },
    {
      "cell_type": "code",
      "source": [
        "#Can a list contain another list?\n",
        "#Yes, a list can contain another list.\n",
        "\n",
        "#Reason: Lists can store any type of object, including other lists. Lists are flexible and allow nested structures, meaning you can have lists of lists, even though both are mutable."
      ],
      "metadata": {
        "id": "bk9B9lgx5SaD"
      },
      "execution_count": null,
      "outputs": []
    },
    {
      "cell_type": "code",
      "source": [
        "#Are Generators Iterable?\n",
        "#Yes, generators are iterable.\n",
        "\n",
        "#Reason: A generator produces a sequence of values over time and can be iterated over once. However, unlike other iterables (like lists or tuples), generators do not store values in memory. Instead, they generate values on the fly using lazy evaluation, meaning they yield items one at a time when requested."
      ],
      "metadata": {
        "id": "gxAMqAF46A3t"
      },
      "execution_count": null,
      "outputs": []
    },
    {
      "cell_type": "code",
      "source": [
        "# Can the Membership Operator (in) Be Performed on a Generator?\n",
        "#No, the membership operator (in) cannot be performed directly on a generator like it can on a list or set because generators do not store all their values at once, and once exhausted, they cannot be iterated again without being reset.\n",
        "\n",
        "#However, you can check membership by iterating through the generator manually."
      ],
      "metadata": {
        "id": "qaedRxC46PAJ"
      },
      "execution_count": null,
      "outputs": []
    },
    {
      "cell_type": "code",
      "source": [
        "#Proving that Membership Check Fails Directly on a Generator\n",
        "# Define a simple generator function\n",
        "def my_generator():\n",
        "    for i in range(5):\n",
        "        yield i\n",
        "\n",
        "gen = my_generator()\n",
        "\n",
        "# Attempt to check membership directly\n",
        "print(3 in gen)  # Works, but consumes the generator\n",
        "\n",
        "# Attempt again after the generator is partially consumed\n",
        "print(1 in gen)  # This will be False, because 1 was already yielded and is \"gone\"\n",
        "\n",
        "#Explanation:\n",
        "#When you check for 3 in gen, it works, but it consumes the generator as it iterates through it.\n",
        "#When you check for 1 in gen afterward, it fails because the generator has already yielded values up to 3 and cannot revisit earlier ones.\n"
      ],
      "metadata": {
        "colab": {
          "base_uri": "https://localhost:8080/"
        },
        "id": "hCh8sD8m6i14",
        "outputId": "fbc3821f-619e-494e-e515-4a45d4a71708"
      },
      "execution_count": null,
      "outputs": [
        {
          "output_type": "stream",
          "name": "stdout",
          "text": [
            "True\n",
            "False\n"
          ]
        }
      ]
    },
    {
      "cell_type": "code",
      "source": [
        "#Workaround: To perform a reliable membership check on a generator, you would need to first convert it into a list or tuple:\n",
        "\n",
        "# Convert generator to a list to perform membership check\n",
        "gen = my_generator()\n",
        "gen_list = list(gen)\n",
        "\n",
        "# Perform membership check on the list\n",
        "print(1 in gen_list)  # Now it works without issue\n"
      ],
      "metadata": {
        "colab": {
          "base_uri": "https://localhost:8080/"
        },
        "id": "4Oe97oLY7X3E",
        "outputId": "7e8f37ad-56e2-4fd7-8211-345b655c9b6f"
      },
      "execution_count": null,
      "outputs": [
        {
          "output_type": "stream",
          "name": "stdout",
          "text": [
            "True\n"
          ]
        }
      ]
    },
    {
      "cell_type": "code",
      "source": [
        "#Write a function to return the key name of a dictionary given a value. Make sure to include doc string and type hinting\n",
        "\n",
        "def get_key_by_value(my_dict: dict, target_value: any) -> str:\n",
        "    \"\"\"\n",
        "    Returns the key corresponding to the given value in a dictionary.\n",
        "\n",
        "    Args:\n",
        "    my_dict (dict): The dictionary to search through.\n",
        "    target_value (any): The value for which to find the corresponding key.\n",
        "\n",
        "    Returns:\n",
        "    str: The key that maps to the target value.\n",
        "\n",
        "    Raises:\n",
        "    ValueError: If the value is not found in the dictionary.\n",
        "    \"\"\"\n",
        "    for key, value in my_dict.items():\n",
        "        if value == target_value:\n",
        "            return key\n",
        "    raise ValueError(f\"Value '{target_value}' not found in the dictionary.\")\n",
        "\n",
        "# Sample dictionary\n",
        "my_dict = {'apple': 1, 'banana': 2, 'cherry': 3}\n",
        "\n",
        "# Find key by value\n",
        "key = get_key_by_value(my_dict, 2)\n",
        "print(key)\n",
        "\n"
      ],
      "metadata": {
        "colab": {
          "base_uri": "https://localhost:8080/"
        },
        "id": "1JQ7F3ud8j4R",
        "outputId": "71ed9dcb-b71a-4927-ba26-12b385d0a64c"
      },
      "execution_count": null,
      "outputs": [
        {
          "output_type": "stream",
          "name": "stdout",
          "text": [
            "banana\n"
          ]
        }
      ]
    },
    {
      "cell_type": "code",
      "source": [
        "# Here’s a function that takes a series of single-digit numbers and returns their sum using a for loop, the += operator, and *args. I'll also explain how *args works in the function.\n",
        "\n",
        "def sum_numbers(*args: int) -> int:\n",
        "    \"\"\"\n",
        "    Returns the sum of the provided single-digit numbers.\n",
        "\n",
        "    Args:\n",
        "    *args (int): A series of single-digit numbers.\n",
        "\n",
        "    Returns:\n",
        "    int: The sum of the provided numbers.\n",
        "    \"\"\"\n",
        "    total = 0\n",
        "    for num in args:\n",
        "        total += num\n",
        "    return total\n"
      ],
      "metadata": {
        "id": "LraAPQtA-Oz3"
      },
      "execution_count": null,
      "outputs": []
    },
    {
      "cell_type": "code",
      "source": [
        "print(sum_numbers(1, 2, 3, 4))\n",
        "print(sum_numbers(1, 2))\n"
      ],
      "metadata": {
        "colab": {
          "base_uri": "https://localhost:8080/"
        },
        "id": "BZa-aVt7-Zql",
        "outputId": "1b467d7c-fdf7-4e5d-ea6a-18fdd416514e"
      },
      "execution_count": null,
      "outputs": [
        {
          "output_type": "stream",
          "name": "stdout",
          "text": [
            "10\n",
            "3\n"
          ]
        }
      ]
    },
    {
      "cell_type": "code",
      "source": [
        "#Function to Check if a Number is Positive, Negative, or Zero\n",
        "\n",
        "def check_number_sign(num: float) -> str:\n",
        "    \"\"\"\n",
        "    Checks whether the given number is positive, negative, or zero.\n",
        "\n",
        "    Args:\n",
        "    num (float): The number to check.\n",
        "\n",
        "    Returns:\n",
        "    str: A message indicating whether the number is positive, negative, or zero.\n",
        "    \"\"\"\n",
        "    if num > 0:\n",
        "        return \"The number is positive.\"\n",
        "    elif num < 0:\n",
        "        return \"The number is negative.\"\n",
        "    else:\n",
        "        return \"The number is zero.\"\n"
      ],
      "metadata": {
        "id": "V-x0a6oBMuZg"
      },
      "execution_count": null,
      "outputs": []
    },
    {
      "cell_type": "code",
      "source": [
        "print(check_number_sign(5))\n",
        "print(check_number_sign(-3))\n",
        "print(check_number_sign(0))\n"
      ],
      "metadata": {
        "colab": {
          "base_uri": "https://localhost:8080/"
        },
        "id": "nLixdVFONSFz",
        "outputId": "3272b12c-b40d-4aea-96f7-96a4b1c518c3"
      },
      "execution_count": null,
      "outputs": [
        {
          "output_type": "stream",
          "name": "stdout",
          "text": [
            "The number is positive.\n",
            "The number is negative.\n",
            "The number is zero.\n"
          ]
        }
      ]
    },
    {
      "cell_type": "code",
      "source": [
        "#Write a Loop to Print a Multiplication Table for a Number (1 to 10)\n",
        "def print_multiplication_table(num: int) -> None:\n",
        "    \"\"\"\n",
        "    Prints the multiplication table for the given number from 1 to 10.\n",
        "\n",
        "    Args:\n",
        "    num (int): The number for which to print the multiplication table.\n",
        "    \"\"\"\n",
        "    for i in range(1, 11):\n",
        "        print(f\"{num} x {i} = {num * i}\")\n",
        "\n",
        "        print_multiplication_table(5)\n",
        "\n",
        "\n",
        "\n"
      ],
      "metadata": {
        "id": "FYVBBvALNxBl"
      },
      "execution_count": null,
      "outputs": []
    },
    {
      "cell_type": "markdown",
      "source": [],
      "metadata": {
        "id": "znDnj6D8PMTL"
      }
    },
    {
      "cell_type": "code",
      "source": [],
      "metadata": {
        "id": "bJV3B1k-P9xW"
      },
      "execution_count": null,
      "outputs": []
    }
  ]
}